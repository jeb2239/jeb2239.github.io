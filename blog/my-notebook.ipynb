{
 "cells": [
  {
   "cell_type": "markdown",
   "metadata": {},
   "source": []
  },
  {
   "cell_type": "code",
   "execution_count": 3,
   "metadata": {},
   "outputs": [],
   "source": []
  },
  {
   "cell_type": "code",
   "execution_count": 4,
   "metadata": {},
   "outputs": [
    {
     "data": {
      "text/plain": [
       "3.784189633918261"
      ]
     },
     "execution_count": 4,
     "metadata": {},
     "output_type": "execute_result"
    }
   ],
   "source": []
  },
  {
   "cell_type": "code",
   "execution_count": null,
   "metadata": {},
   "outputs": [],
   "source": []
  }
 ],
 "metadata": {
  "interpreter": {
   "hash": "67f8632d62cad27b59ff5f16c304538896827d7ad065d0ea92083af1c834aab9"
  },
  "kernelspec": {
   "display_name": "Python 3.8.5 64-bit ('nikola-site-VkY3nYHh-py3.8': poetry)",
   "name": "python3"
  },
  "language_info": {
   "name": "python",
   "version": ""
  },
  "nikola": {
   "category": "",
   "date": "2021-06-30 13:46:02 UTC",
   "description": "",
   "link": "",
   "slug": "my-notebook",
   "tags": "",
   "title": "My Notebook",
   "type": "text"
  }
 },
 "nbformat": 4,
 "nbformat_minor": 5
}