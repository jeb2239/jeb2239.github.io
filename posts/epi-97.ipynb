{
 "cells": [
  {
   "cell_type": "markdown",
   "source": [
    "This problem is from elements of programming interviews.\n",
    "\n",
    "Write an inorder traversal without recursion."
   ],
   "metadata": {}
  },
  {
   "cell_type": "code",
   "execution_count": 7,
   "source": [
    "class Node:\n",
    "\n",
    "    def __init__(self,val,left=None,right=None):\n",
    "        self.val=val\n",
    "        self.left=left\n",
    "        self.right=right\n",
    "        \n",
    "\n",
    "def inorder_traversal(tree:Node):\n",
    "    stk=[]\n",
    "    currNode=tree\n",
    "    result=[]\n",
    "    while True:\n",
    "\n",
    "        while currNode:\n",
    "            stk.append(currNode)\n",
    "            currNode=currNode.left\n",
    "        \n",
    "        currNode = stk.pop()\n",
    "        result.append(currNode.val)\n",
    "        currNode=currNode.right\n",
    "        if not stk and currNode is None:\n",
    "            break\n",
    "    return result\n",
    "\n",
    "tree=Node(3,Node(4),Node(1,Node(4,Node(7))))\n",
    "\n",
    "inorder_traversal(tree)\n",
    "\n"
   ],
   "outputs": [
    {
     "output_type": "execute_result",
     "data": {
      "text/plain": [
       "[4, 3, 7, 4, 1]"
      ]
     },
     "metadata": {},
     "execution_count": 7
    }
   ],
   "metadata": {}
  },
  {
   "cell_type": "markdown",
   "source": [],
   "metadata": {}
  }
 ],
 "metadata": {
  "kernelspec": {
   "name": "python3",
   "display_name": "Python 3.8.10 64-bit ('nikola-site-VkY3nYHh-py3.8': venv)"
  },
  "nikola": {
   "category": "",
   "date": "2021-08-01 23:32:02 UTC",
   "description": "",
   "link": "",
   "slug": "epi-97",
   "tags": "",
   "title": "EPI 9.7",
   "type": "text"
  },
  "language_info": {
   "name": "python",
   "version": "3.8.10",
   "mimetype": "text/x-python",
   "codemirror_mode": {
    "name": "ipython",
    "version": 3
   },
   "pygments_lexer": "ipython3",
   "nbconvert_exporter": "python",
   "file_extension": ".py"
  },
  "interpreter": {
   "hash": "67f8632d62cad27b59ff5f16c304538896827d7ad065d0ea92083af1c834aab9"
  }
 },
 "nbformat": 4,
 "nbformat_minor": 5
}